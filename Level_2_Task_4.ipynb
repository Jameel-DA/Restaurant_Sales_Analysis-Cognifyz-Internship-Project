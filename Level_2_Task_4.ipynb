{
 "cells": [
  {
   "cell_type": "code",
   "execution_count": 1,
   "metadata": {},
   "outputs": [],
   "source": [
    "import pandas as pd"
   ]
  },
  {
   "cell_type": "code",
   "execution_count": null,
   "metadata": {},
   "outputs": [],
   "source": [
    "df = pd.read_csv(\"Dataset .csv\")"
   ]
  },
  {
   "cell_type": "markdown",
   "metadata": {},
   "source": [
    "# Task 4: Restaurant Chains\n",
    "# Identify if there are any restaurant chains present in the dataset."
   ]
  },
  {
   "cell_type": "code",
   "execution_count": 9,
   "metadata": {},
   "outputs": [
    {
     "name": "stdout",
     "output_type": "stream",
     "text": [
      "List of Restaurant Chains:\n",
      " Restaurant Name\n",
      "Cafe Coffee Day     83\n",
      "Domino's Pizza      79\n",
      "Subway              63\n",
      "Green Chick Chop    51\n",
      "McDonald's          48\n",
      "                    ..\n",
      "San Carlo            2\n",
      "Gymkhana             2\n",
      "Dishoom              2\n",
      "Timboo Cafe          2\n",
      "D�_vero��lu          2\n",
      "Name: count, Length: 734, dtype: int64\n"
     ]
    }
   ],
   "source": [
    "counts = df['Restaurant Name'].value_counts()\n",
    "chains = counts[counts > 1]\n",
    "print(\"List of Restaurant Chains:\\n\", chains)"
   ]
  },
  {
   "cell_type": "markdown",
   "metadata": {},
   "source": [
    "# Analyze the ratings and popularity of different restaurant chains."
   ]
  },
  {
   "cell_type": "code",
   "execution_count": 10,
   "metadata": {},
   "outputs": [
    {
     "name": "stdout",
     "output_type": "stream",
     "text": [
      "Top Restaurant Chains by Rating:\n",
      "                            Average_Rating  Average_Votes  Locations\n",
      "Restaurant Name                                                    \n",
      "Talaga Sampireun                    4.900         1838.0          3\n",
      "AB's Absolute Barbecues             4.850         1575.5          2\n",
      "Silantro Fil-Mex                    4.850          682.0          2\n",
      "AB's - Absolute Barbecues           4.825         3350.0          4\n",
      "Naturals Ice Cream                  4.800         1547.0          2\n",
      "Gymkhana                            4.700          164.0          2\n",
      "The Cheesecake Factory              4.650         1505.0          2\n",
      "Dishoom                             4.600          634.5          2\n",
      "Garota de Ipanema                   4.600           29.5          2\n",
      "Chili's                             4.580         1631.2          5\n"
     ]
    }
   ],
   "source": [
    "data = df[df['Restaurant Name'].isin(chains.index)]\n",
    "analysis = data.groupby('Restaurant Name').agg(\n",
    "    Average_Rating=('Aggregate rating', 'mean'),\n",
    "    Average_Votes=('Votes', 'mean'),\n",
    "    Locations=('Restaurant Name', 'count')\n",
    ").sort_values(by='Average_Rating', ascending=False)\n",
    "\n",
    "print(\"Top Restaurant Chains by Rating:\\n\", analysis.head(10))\n"
   ]
  }
 ],
 "metadata": {
  "kernelspec": {
   "display_name": "Python 3",
   "language": "python",
   "name": "python3"
  },
  "language_info": {
   "codemirror_mode": {
    "name": "ipython",
    "version": 3
   },
   "file_extension": ".py",
   "mimetype": "text/x-python",
   "name": "python",
   "nbconvert_exporter": "python",
   "pygments_lexer": "ipython3",
   "version": "3.13.0"
  }
 },
 "nbformat": 4,
 "nbformat_minor": 2
}
