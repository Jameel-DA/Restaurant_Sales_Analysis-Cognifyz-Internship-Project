{
 "cells": [
  {
   "cell_type": "code",
   "execution_count": null,
   "metadata": {},
   "outputs": [],
   "source": [
    "!pip install folium"
   ]
  },
  {
   "cell_type": "code",
   "execution_count": 4,
   "metadata": {},
   "outputs": [],
   "source": [
    "import pandas as pd\n",
    "import folium"
   ]
  },
  {
   "cell_type": "code",
   "execution_count": 3,
   "metadata": {},
   "outputs": [],
   "source": [
    "df = pd.read_csv(\"Dataset .csv\")"
   ]
  },
  {
   "cell_type": "markdown",
   "metadata": {},
   "source": [
    "# Task 3: Geographic Analysis\n",
    "# Plot the locations of restaurants on a map using longitude and latitude coordinates.\n",
    "# Identify any patterns or clusters of restaurants in specific areas."
   ]
  },
  {
   "cell_type": "code",
   "execution_count": 6,
   "metadata": {},
   "outputs": [
    {
     "name": "stdout",
     "output_type": "stream",
     "text": [
      "Map has been saved as 'restaurant_map.html'. Open this file in a browser to view it.\n"
     ]
    }
   ],
   "source": [
    "df = df.dropna(subset=['Latitude', 'Longitude'])\n",
    "\n",
    "map_center = [df['Latitude'].mean(), df['Longitude'].mean()]\n",
    "restaurant_map = folium.Map(location=map_center, zoom_start=10)\n",
    "\n",
    "for index, row in df.iterrows():\n",
    "    folium.Marker(\n",
    "        location=[row['Latitude'], row['Longitude']], \n",
    "        popup=row['Restaurant Name']\n",
    "    ).add_to(restaurant_map)\n",
    "\n",
    "restaurant_map.save(\"restaurant_map.html\")\n",
    "print(\"Map has been saved as 'restaurant_map.html'. Open this file in a browser to view it.\")\n"
   ]
  }
 ],
 "metadata": {
  "kernelspec": {
   "display_name": "Python 3",
   "language": "python",
   "name": "python3"
  },
  "language_info": {
   "codemirror_mode": {
    "name": "ipython",
    "version": 3
   },
   "file_extension": ".py",
   "mimetype": "text/x-python",
   "name": "python",
   "nbconvert_exporter": "python",
   "pygments_lexer": "ipython3",
   "version": "3.13.0"
  }
 },
 "nbformat": 4,
 "nbformat_minor": 2
}
